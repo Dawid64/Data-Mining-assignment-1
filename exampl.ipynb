{
 "cells": [
  {
   "cell_type": "code",
   "execution_count": 1,
   "id": "initial_id",
   "metadata": {
    "ExecuteTime": {
     "end_time": "2024-04-12T15:13:23.002439Z",
     "start_time": "2024-04-12T15:13:22.999615Z"
    },
    "collapsed": true
   },
   "outputs": [],
   "source": [
    "import matplotlib.pyplot as plt\n",
    "from matplotlib.colors import ListedColormap\n",
    "from sklearn import datasets\n",
    "from sklearn_som.som import SOM"
   ]
  },
  {
   "cell_type": "code",
   "execution_count": 2,
   "id": "ca508fa2ca35abd5",
   "metadata": {
    "ExecuteTime": {
     "end_time": "2024-04-12T15:13:23.008323Z",
     "start_time": "2024-04-12T15:13:23.005086Z"
    }
   },
   "outputs": [],
   "source": [
    "iris = datasets.load_iris()\n",
    "iris_data = iris.data\n",
    "iris_label = iris.target"
   ]
  },
  {
   "cell_type": "code",
   "execution_count": 3,
   "id": "d73b5424ac89f923",
   "metadata": {
    "ExecuteTime": {
     "end_time": "2024-04-12T15:13:23.013513Z",
     "start_time": "2024-04-12T15:13:23.011460Z"
    }
   },
   "outputs": [],
   "source": [
    "iris_data = iris_data[:, :2]"
   ]
  },
  {
   "cell_type": "code",
   "execution_count": 4,
   "id": "794e84778d091a83",
   "metadata": {
    "ExecuteTime": {
     "end_time": "2024-04-12T15:13:23.024481Z",
     "start_time": "2024-04-12T15:13:23.022214Z"
    }
   },
   "outputs": [],
   "source": [
    "som = SOM(m=3, n=1, dim=2, random_state=1234)"
   ]
  },
  {
   "cell_type": "code",
   "execution_count": 5,
   "id": "7c20c4f6f49c2b5e",
   "metadata": {
    "ExecuteTime": {
     "end_time": "2024-04-12T15:13:23.034040Z",
     "start_time": "2024-04-12T15:13:23.025405Z"
    }
   },
   "outputs": [],
   "source": [
    "som.fit(iris_data)"
   ]
  },
  {
   "cell_type": "code",
   "execution_count": 6,
   "id": "1b4c6a275f7f1486",
   "metadata": {
    "ExecuteTime": {
     "end_time": "2024-04-12T15:13:23.038927Z",
     "start_time": "2024-04-12T15:13:23.035068Z"
    }
   },
   "outputs": [],
   "source": [
    "predictions = som.predict(iris_data)"
   ]
  },
  {
   "cell_type": "code",
   "execution_count": 7,
   "id": "a9fda2b66dc11230",
   "metadata": {
    "ExecuteTime": {
     "end_time": "2024-04-12T15:13:23.195539Z",
     "start_time": "2024-04-12T15:13:23.040269Z"
    }
   },
   "outputs": [
    {
     "data": {
      "image/png": "[encoded data removed]",
      "text/plain": [
       "<Figure size 500x700 with 2 Axes>"
      ]
     },
     "metadata": {},
     "output_type": "display_data"
    }
   ],
   "source": [
    "fig, ax = plt.subplots(nrows=2, ncols=1, figsize=(5,7))\n",
    "x = iris_data[:,0]\n",
    "y = iris_data[:,1]\n",
    "colors = ['red', 'green', 'blue']"
   ]
  },
  {
   "cell_type": "code",
   "execution_count": 8,
   "id": "d5a5fce4f43f036d",
   "metadata": {
    "ExecuteTime": {
     "end_time": "2024-04-12T15:13:29.757543Z",
     "start_time": "2024-04-12T15:13:29.734850Z"
    }
   },
   "outputs": [
    {
     "data": {
      "text/plain": [
       "<Figure size 640x480 with 0 Axes>"
      ]
     },
     "metadata": {},
     "output_type": "display_data"
    }
   ],
   "source": [
    "ax[0].scatter(x, y, c=iris_label, cmap=ListedColormap(colors))\n",
    "ax[0].title.set_text('Actual Classes')\n",
    "ax[1].scatter(x, y, c=predictions, cmap=ListedColormap(colors))\n",
    "ax[1].title.set_text('SOM Predictions')\n",
    "plt.savefig('iris_example.png')"
   ]
  },
  {
   "cell_type": "markdown",
   "id": "a68ae252dca13268",
   "metadata": {},
   "source": []
  }
 ],
 "metadata": {
  "kernelspec": {
   "display_name": "Python 3",
   "language": "python",
   "name": "python3"
  },
  "language_info": {
   "codemirror_mode": {
    "name": "ipython",
    "version": 3
   },
   "file_extension": ".py",
   "mimetype": "text/x-python",
   "name": "python",
   "nbconvert_exporter": "python",
   "pygments_lexer": "ipython3",
   "version": "3.10.12"
  }
 },
 "nbformat": 4,
 "nbformat_minor": 5
}
